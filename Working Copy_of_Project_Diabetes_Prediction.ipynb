{
  "cells": [
    {
      "cell_type": "markdown",
      "metadata": {
        "id": "view-in-github",
        "colab_type": "text"
      },
      "source": [
        "<a href=\"https://colab.research.google.com/github/yang0256/Project_Diabetes_Prediction-/blob/main/Working%20Copy_of_Project_Diabetes_Prediction.ipynb\" target=\"_parent\"><img src=\"https://colab.research.google.com/assets/colab-badge.svg\" alt=\"Open In Colab\"/></a>"
      ]
    },
    {
      "cell_type": "markdown",
      "metadata": {
        "id": "cLeggk6VOeti"
      },
      "source": [
        "# BISI CST2101 Project - Diabetes Analysis\n",
        "\n",
        "---------------\n",
        "## Context\n",
        "---------------\n",
        "\n",
        "Diabetes is one of the most frequent diseases worldwide and the number of diabetic patients are growing over the years. The main cause of diabetes remains unknown, yet scientists believe that both genetic factors and environmental lifestyle play a major role in diabetes.\n",
        "\n",
        "A few years ago research was done on a tribe in America which is called the Pima tribe (also known as the Pima Indians). In this tribe, it was found that the ladies are prone to diabetes very early. Several constraints were placed on the selection of these instances from a larger database. In particular, all patients were females at least 21 years old of Pima Indian heritage. \n",
        "\n",
        "-----------------\n",
        "## Objective\n",
        "-----------------\n",
        "\n",
        "Here, we are analyzing different aspects of Diabetes in the Pima tribe by doing Exploratory Data Analysis.\n",
        "\n",
        "-------------------------\n",
        "## Data Dictionary\n",
        "-------------------------\n",
        "\n",
        "The dataset has the following information:\n",
        "\n",
        "* Pregnancies: Number of times pregnant\n",
        "* Glucose: Plasma glucose concentration over 2 hours in an oral glucose tolerance test\n",
        "* BloodPressure: Diastolic blood pressure (mm Hg)\n",
        "* SkinThickness: Triceps skin fold thickness (mm)\n",
        "* Insulin: 2-Hour serum insulin (mu U/ml)\n",
        "* BMI: Body mass index (weight in kg/(height in m)^2)\n",
        "* DiabetesPedigreeFunction: A function which scores likelihood of diabetes based on family history.\n",
        "* Age: Age in years\n",
        "* Outcome : Class variable (0: person is not diabetic or 1: person is diabetic)"
      ]
    },
    {
      "cell_type": "markdown",
      "metadata": {
        "id": "sHUisB2kOetk"
      },
      "source": [
        "### Q1: Import the necessary libraries and briefly explain the use of each library (1 Mark)"
      ]
    },
    {
      "cell_type": "code",
      "execution_count": null,
      "metadata": {
        "id": "D_XBKlXgOetl"
      },
      "outputs": [],
      "source": [
        "# remove _____ & write the appropriate library name\n",
        "\n",
        "import ____ as np\n",
        "import _____ as pd\n",
        "\n",
        "import _____ as sns\n",
        "import matplotlib.____ as plt\n",
        "%matplotlib inline\n",
        "\n",
        "# You don't have to explain about these libraries below\n",
        "from sklearn.preprocessing import StandardScaler\n",
        "from sklearn.linear_model import LogisticRegression\n",
        "from sklearn.ensemble import RandomForestClassifier"
      ]
    },
    {
      "cell_type": "markdown",
      "metadata": {
        "id": "kzpoe55UOetl"
      },
      "source": [
        "#### Write your Answer here: "
      ]
    },
    {
      "cell_type": "raw",
      "metadata": {
        "id": "fQEWTh6UOetm"
      },
      "source": [
        "Ans 1:"
      ]
    },
    {
      "cell_type": "markdown",
      "metadata": {
        "id": "FVvCrpx1Oetm"
      },
      "source": [
        "### Q2: Read the given dataset (1 Mark)"
      ]
    },
    {
      "cell_type": "code",
      "execution_count": null,
      "metadata": {
        "id": "BIWXhGbdOetm"
      },
      "outputs": [],
      "source": [
        "#remove _____ & write the appropriate function name\n",
        "\n",
        "pima = pd.____(\"diabetes.csv\")"
      ]
    },
    {
      "cell_type": "markdown",
      "metadata": {
        "id": "d4bi3xVROetm"
      },
      "source": [
        "### Q3. Show the last 5 records of the dataset (1 Mark)"
      ]
    },
    {
      "cell_type": "code",
      "execution_count": null,
      "metadata": {
        "id": "ttjd6L4mOetn",
        "outputId": "a8a3336a-8cdc-408b-fb68-5aa534311d20"
      },
      "outputs": [
        {
          "data": {
            "text/html": [
              "<div><div id=8a7aea2c-eabd-4777-b28a-db57d04f9d2c style=\"display:none; background-color:#9D6CFF; color:white; width:200px; height:30px; padding-left:5px; border-radius:4px; flex-direction:row; justify-content:space-around; align-items:center;\" onmouseover=\"this.style.backgroundColor='#BA9BF8'\" onmouseout=\"this.style.backgroundColor='#9D6CFF'\" onclick=\"window.commands?.execute('create-mitosheet-from-dataframe-output');\">See Full Dataframe in Mito</div> <script> if (window.commands.hasCommand('create-mitosheet-from-dataframe-output')) document.getElementById('8a7aea2c-eabd-4777-b28a-db57d04f9d2c').style.display = 'flex' </script> <table border=\"1\" class=\"dataframe\">\n",
              "  <thead>\n",
              "    <tr style=\"text-align: right;\">\n",
              "      <th></th>\n",
              "      <th>Pregnancies</th>\n",
              "      <th>Glucose</th>\n",
              "      <th>BloodPressure</th>\n",
              "      <th>SkinThickness</th>\n",
              "      <th>Insulin</th>\n",
              "      <th>BMI</th>\n",
              "      <th>DiabetesPedigreeFunction</th>\n",
              "      <th>Age</th>\n",
              "      <th>Outcome</th>\n",
              "    </tr>\n",
              "  </thead>\n",
              "  <tbody>\n",
              "    <tr>\n",
              "      <th>763</th>\n",
              "      <td>10</td>\n",
              "      <td>101</td>\n",
              "      <td>76</td>\n",
              "      <td>48</td>\n",
              "      <td>180</td>\n",
              "      <td>32.9</td>\n",
              "      <td>0.171</td>\n",
              "      <td>63</td>\n",
              "      <td>0</td>\n",
              "    </tr>\n",
              "    <tr>\n",
              "      <th>764</th>\n",
              "      <td>2</td>\n",
              "      <td>122</td>\n",
              "      <td>70</td>\n",
              "      <td>27</td>\n",
              "      <td>0</td>\n",
              "      <td>36.8</td>\n",
              "      <td>0.340</td>\n",
              "      <td>27</td>\n",
              "      <td>0</td>\n",
              "    </tr>\n",
              "    <tr>\n",
              "      <th>765</th>\n",
              "      <td>5</td>\n",
              "      <td>121</td>\n",
              "      <td>72</td>\n",
              "      <td>23</td>\n",
              "      <td>112</td>\n",
              "      <td>26.2</td>\n",
              "      <td>0.245</td>\n",
              "      <td>30</td>\n",
              "      <td>0</td>\n",
              "    </tr>\n",
              "    <tr>\n",
              "      <th>766</th>\n",
              "      <td>1</td>\n",
              "      <td>126</td>\n",
              "      <td>60</td>\n",
              "      <td>0</td>\n",
              "      <td>0</td>\n",
              "      <td>30.1</td>\n",
              "      <td>0.349</td>\n",
              "      <td>47</td>\n",
              "      <td>1</td>\n",
              "    </tr>\n",
              "    <tr>\n",
              "      <th>767</th>\n",
              "      <td>1</td>\n",
              "      <td>93</td>\n",
              "      <td>70</td>\n",
              "      <td>31</td>\n",
              "      <td>0</td>\n",
              "      <td>30.4</td>\n",
              "      <td>0.315</td>\n",
              "      <td>23</td>\n",
              "      <td>0</td>\n",
              "    </tr>\n",
              "  </tbody>\n",
              "</table></div>"
            ],
            "text/plain": [
              "     Pregnancies  Glucose  BloodPressure  SkinThickness  Insulin   BMI  \\\n",
              "763           10      101             76             48      180  32.9   \n",
              "764            2      122             70             27        0  36.8   \n",
              "765            5      121             72             23      112  26.2   \n",
              "766            1      126             60              0        0  30.1   \n",
              "767            1       93             70             31        0  30.4   \n",
              "\n",
              "     DiabetesPedigreeFunction  Age  Outcome  \n",
              "763                     0.171   63        0  \n",
              "764                     0.340   27        0  \n",
              "765                     0.245   30        0  \n",
              "766                     0.349   47        1  \n",
              "767                     0.315   23        0  "
            ]
          },
          "execution_count": 7,
          "metadata": {},
          "output_type": "execute_result"
        }
      ],
      "source": [
        "#remove ______ and write the appropriate number in the function\n",
        "\n",
        "pima.tail(5)"
      ]
    },
    {
      "cell_type": "markdown",
      "metadata": {
        "id": "uvbBOrVhOetn"
      },
      "source": [
        "### Q4. Show the first 5 records of the dataset (1 Mark)"
      ]
    },
    {
      "cell_type": "code",
      "execution_count": null,
      "metadata": {
        "id": "aY-ydd17Oetn",
        "outputId": "15560f82-5bf2-4909-981a-5c1662d09ff7"
      },
      "outputs": [
        {
          "data": {
            "text/html": [
              "<div><div id=ec5489d3-38d0-4e20-8172-5ae6b4efd995 style=\"display:none; background-color:#9D6CFF; color:white; width:200px; height:30px; padding-left:5px; border-radius:4px; flex-direction:row; justify-content:space-around; align-items:center;\" onmouseover=\"this.style.backgroundColor='#BA9BF8'\" onmouseout=\"this.style.backgroundColor='#9D6CFF'\" onclick=\"window.commands?.execute('create-mitosheet-from-dataframe-output');\">See Full Dataframe in Mito</div> <script> if (window.commands.hasCommand('create-mitosheet-from-dataframe-output')) document.getElementById('ec5489d3-38d0-4e20-8172-5ae6b4efd995').style.display = 'flex' </script> <table border=\"1\" class=\"dataframe\">\n",
              "  <thead>\n",
              "    <tr style=\"text-align: right;\">\n",
              "      <th></th>\n",
              "      <th>Pregnancies</th>\n",
              "      <th>Glucose</th>\n",
              "      <th>BloodPressure</th>\n",
              "      <th>SkinThickness</th>\n",
              "      <th>Insulin</th>\n",
              "      <th>BMI</th>\n",
              "      <th>DiabetesPedigreeFunction</th>\n",
              "      <th>Age</th>\n",
              "      <th>Outcome</th>\n",
              "    </tr>\n",
              "  </thead>\n",
              "  <tbody>\n",
              "    <tr>\n",
              "      <th>0</th>\n",
              "      <td>6</td>\n",
              "      <td>148</td>\n",
              "      <td>72</td>\n",
              "      <td>35</td>\n",
              "      <td>0</td>\n",
              "      <td>33.6</td>\n",
              "      <td>0.627</td>\n",
              "      <td>50</td>\n",
              "      <td>1</td>\n",
              "    </tr>\n",
              "    <tr>\n",
              "      <th>1</th>\n",
              "      <td>1</td>\n",
              "      <td>85</td>\n",
              "      <td>66</td>\n",
              "      <td>29</td>\n",
              "      <td>0</td>\n",
              "      <td>26.6</td>\n",
              "      <td>0.351</td>\n",
              "      <td>31</td>\n",
              "      <td>0</td>\n",
              "    </tr>\n",
              "    <tr>\n",
              "      <th>2</th>\n",
              "      <td>8</td>\n",
              "      <td>183</td>\n",
              "      <td>64</td>\n",
              "      <td>0</td>\n",
              "      <td>0</td>\n",
              "      <td>23.3</td>\n",
              "      <td>0.672</td>\n",
              "      <td>32</td>\n",
              "      <td>1</td>\n",
              "    </tr>\n",
              "    <tr>\n",
              "      <th>3</th>\n",
              "      <td>1</td>\n",
              "      <td>89</td>\n",
              "      <td>66</td>\n",
              "      <td>23</td>\n",
              "      <td>94</td>\n",
              "      <td>28.1</td>\n",
              "      <td>0.167</td>\n",
              "      <td>21</td>\n",
              "      <td>0</td>\n",
              "    </tr>\n",
              "    <tr>\n",
              "      <th>4</th>\n",
              "      <td>0</td>\n",
              "      <td>137</td>\n",
              "      <td>40</td>\n",
              "      <td>35</td>\n",
              "      <td>168</td>\n",
              "      <td>43.1</td>\n",
              "      <td>2.288</td>\n",
              "      <td>33</td>\n",
              "      <td>1</td>\n",
              "    </tr>\n",
              "  </tbody>\n",
              "</table></div>"
            ],
            "text/plain": [
              "   Pregnancies  Glucose  BloodPressure  SkinThickness  Insulin   BMI  \\\n",
              "0            6      148             72             35        0  33.6   \n",
              "1            1       85             66             29        0  26.6   \n",
              "2            8      183             64              0        0  23.3   \n",
              "3            1       89             66             23       94  28.1   \n",
              "4            0      137             40             35      168  43.1   \n",
              "\n",
              "   DiabetesPedigreeFunction  Age  Outcome  \n",
              "0                     0.627   50        1  \n",
              "1                     0.351   31        0  \n",
              "2                     0.672   32        1  \n",
              "3                     0.167   21        0  \n",
              "4                     2.288   33        1  "
            ]
          },
          "execution_count": 8,
          "metadata": {},
          "output_type": "execute_result"
        }
      ],
      "source": [
        "#remove _____ & write the appropriate function name and the number of rows to get in the output\n",
        "\n",
        "pima.head(5)"
      ]
    },
    {
      "cell_type": "markdown",
      "metadata": {
        "id": "9AeilOyyOeto"
      },
      "source": [
        "### Q5. Find the dimension of the `pima` dataframe. What do you understand by the dimension of the dataset? (1 Mark)"
      ]
    },
    {
      "cell_type": "code",
      "execution_count": null,
      "metadata": {
        "id": "tmYqAdshOeto"
      },
      "outputs": [],
      "source": [
        "#remove _____ & write the appropriate function name\n",
        "\n",
        "pima.___"
      ]
    },
    {
      "cell_type": "markdown",
      "metadata": {
        "id": "4LLmyZFjOeto"
      },
      "source": [
        "#### Write your Answer here: \n"
      ]
    },
    {
      "cell_type": "raw",
      "metadata": {
        "id": "EBeBJyUOOeto"
      },
      "source": [
        "Ans 5:"
      ]
    },
    {
      "cell_type": "markdown",
      "metadata": {
        "id": "geuOIOdVOeto"
      },
      "source": [
        "### Q6. Find the size of the `pima` dataframe. (1 Mark)"
      ]
    },
    {
      "cell_type": "code",
      "execution_count": null,
      "metadata": {
        "id": "P-uhh0BbOetp"
      },
      "outputs": [],
      "source": [
        "#remove _____ & write the appropriate function name\n",
        "\n",
        "pima.______"
      ]
    },
    {
      "cell_type": "markdown",
      "metadata": {
        "id": "c3Fuee0_Oetp"
      },
      "source": [
        "#### Write your Answer here: \n"
      ]
    },
    {
      "cell_type": "raw",
      "metadata": {
        "id": "LZ8DdMd4Oetp"
      },
      "source": [
        "Ans 6:"
      ]
    },
    {
      "cell_type": "markdown",
      "metadata": {
        "id": "cUuoA0ByOetp"
      },
      "source": [
        "### Q7. Display the data types of all the variables in the data set? (1 Mark)\n"
      ]
    },
    {
      "cell_type": "code",
      "execution_count": null,
      "metadata": {
        "id": "0Runo_AyOetp"
      },
      "outputs": [],
      "source": [
        "#remove _____ & write the appropriate function name\n",
        "\n",
        "pima.____"
      ]
    },
    {
      "cell_type": "markdown",
      "metadata": {
        "id": "eyYc5PQTOetp"
      },
      "source": [
        "### Q8. Are there any missing values in the `pima` dataframe?  Which variables have missing values? (1 Mark)"
      ]
    },
    {
      "cell_type": "code",
      "execution_count": null,
      "metadata": {
        "id": "bCoChS9COetq"
      },
      "outputs": [],
      "source": [
        "#remove _____ & write the appropriate function name\n",
        "\n",
        "pima.______().values.any()"
      ]
    },
    {
      "cell_type": "markdown",
      "metadata": {
        "id": "ONNJc3HzOetq"
      },
      "source": [
        "#### Write your Answer here: \n"
      ]
    },
    {
      "cell_type": "raw",
      "metadata": {
        "id": "yIokuDW5Oetq"
      },
      "source": [
        "Ans 8:"
      ]
    },
    {
      "cell_type": "markdown",
      "metadata": {
        "id": "WnLApyIQOetq"
      },
      "source": [
        "### Q9. Find the summary statistics for all variables except for  `'Outcome'` variable? Choose any one column/variable and explain all the statistical measures. (2 Marks)"
      ]
    },
    {
      "cell_type": "code",
      "execution_count": null,
      "metadata": {
        "id": "-jcby2yvOetq"
      },
      "outputs": [],
      "source": [
        "#remove _____ & write the appropriate function name\n",
        "\n",
        "pima.iloc[:,__]._______()"
      ]
    },
    {
      "cell_type": "markdown",
      "metadata": {
        "id": "wobFwDuUOetq"
      },
      "source": [
        "#### Write your Answer here: \n"
      ]
    },
    {
      "cell_type": "raw",
      "metadata": {
        "id": "pqbZtMvlOetq"
      },
      "source": [
        "Ans 9:"
      ]
    },
    {
      "cell_type": "markdown",
      "metadata": {
        "id": "LmFFBqN0Oetr"
      },
      "source": [
        "### Q10. Plot the distribution plot for the variable `'BloodPressure'`. Write your observations from the plot. (2 Marks)"
      ]
    },
    {
      "cell_type": "code",
      "execution_count": null,
      "metadata": {
        "id": "dtlaaAm2Oetr"
      },
      "outputs": [],
      "source": [
        "#remove _____ & write the appropriate library name\n",
        "\n",
        "sns._____(pima['BloodPressure'], kind='kde')\n",
        "plt.show()"
      ]
    },
    {
      "cell_type": "markdown",
      "metadata": {
        "id": "nBcEKcAUOetr"
      },
      "source": [
        "#### Write your Answer here: \n"
      ]
    },
    {
      "cell_type": "raw",
      "metadata": {
        "id": "EBapI4RzOetr"
      },
      "source": [
        "Ans 10:"
      ]
    },
    {
      "cell_type": "markdown",
      "metadata": {
        "id": "czpmoeioOetr"
      },
      "source": [
        "### Q11. What is the `'BMI'` for the person having the highest `'Glucose'`? (1 Mark)"
      ]
    },
    {
      "cell_type": "code",
      "execution_count": null,
      "metadata": {
        "id": "sA064aO0Oetr"
      },
      "outputs": [],
      "source": [
        "#remove _____ & write the appropriate function name\n",
        "\n",
        "pima[pima['Glucose']==pima['Glucose']._____()]['BMI']"
      ]
    },
    {
      "cell_type": "markdown",
      "metadata": {
        "id": "dxhPh6zvOets"
      },
      "source": [
        "#### Write your Answer here: \n"
      ]
    },
    {
      "cell_type": "raw",
      "metadata": {
        "id": "X0_MfpTzOets"
      },
      "source": [
        "Ans 11:"
      ]
    },
    {
      "cell_type": "markdown",
      "metadata": {
        "id": "USRqMxV7Oets"
      },
      "source": [
        "### Q12.\n",
        "#### 12.1 What is the mean of the variable `'BMI'`? \n",
        "#### 12.2 What is the median of the variable `'BMI'`? \n",
        "#### 12.3 What is the mode of the variable `'BMI'`?\n",
        "#### 12.4 Are the three measures of central tendency equal?\n",
        "\n",
        "### (2 Marks)"
      ]
    },
    {
      "cell_type": "code",
      "execution_count": null,
      "metadata": {
        "id": "tUhWQ27DOets"
      },
      "outputs": [],
      "source": [
        "#remove _____ & write the appropriate function name\n",
        "\n",
        "m1 = pima['BMI'].____()  #Mean\n",
        "print(m1)\n",
        "m2 = pima['BMI'].____()  #Median\n",
        "print(m2)\n",
        "m3 = pima['BMI'].____()[0]  #Mode\n",
        "print(m3)"
      ]
    },
    {
      "cell_type": "markdown",
      "metadata": {
        "id": "jq-hcgf_Oett"
      },
      "source": [
        "#### Write your Answer here: \n"
      ]
    },
    {
      "cell_type": "raw",
      "metadata": {
        "id": "N5jylROcOett"
      },
      "source": [
        "Ans 12:"
      ]
    },
    {
      "cell_type": "markdown",
      "metadata": {
        "id": "RT-_6YahOett"
      },
      "source": [
        "### Q13. How many women's `'Glucose'` level is above the mean level of `'Glucose'`? (1 Mark)"
      ]
    },
    {
      "cell_type": "code",
      "execution_count": null,
      "metadata": {
        "id": "UsVXFWokOett"
      },
      "outputs": [],
      "source": [
        "#remove _____ & write the appropriate function name\n",
        "\n",
        "pima[pima['Glucose']>pima['Glucose']._____()].shape[0]"
      ]
    },
    {
      "cell_type": "markdown",
      "metadata": {
        "id": "6_S0Y2l5Oett"
      },
      "source": [
        "#### Write your Answer here: \n"
      ]
    },
    {
      "cell_type": "raw",
      "metadata": {
        "id": "Go6hdqvAOetu"
      },
      "source": [
        "Ans 13:"
      ]
    },
    {
      "cell_type": "markdown",
      "metadata": {
        "id": "mK5bHUn4Oetu"
      },
      "source": [
        "### Q14. Create the pairplot for variables `'Glucose'`, `'SkinThickness'` and `'DiabetesPedigreeFunction'`. Write you observations from the plot. (2 Marks)"
      ]
    },
    {
      "cell_type": "code",
      "execution_count": null,
      "metadata": {
        "id": "d2SojWu9Oetu"
      },
      "outputs": [],
      "source": [
        "#remove _____ & write the appropriate function and argument names\n",
        "\n",
        "sns.______(data=pima, ___=['Glucose', 'SkinThickness', 'DiabetesPedigreeFunction'], hue='Outcome')\n",
        "plt.show()"
      ]
    },
    {
      "cell_type": "markdown",
      "metadata": {
        "id": "j402VySmOetu"
      },
      "source": [
        "#### Write your Answer here: \n"
      ]
    },
    {
      "cell_type": "raw",
      "metadata": {
        "id": "e4vNcif9Oetu"
      },
      "source": [
        "Ans 14:"
      ]
    },
    {
      "cell_type": "markdown",
      "metadata": {
        "id": "aJOY0ulkOetu"
      },
      "source": [
        "### Q15. Plot the scatterplot between `'Glucose'` and `'Insulin'`. Write your observations from the plot. (1 Mark)"
      ]
    },
    {
      "cell_type": "code",
      "execution_count": null,
      "metadata": {
        "scrolled": false,
        "id": "zDHwQl07Oetu"
      },
      "outputs": [],
      "source": [
        "#remove _____ & write the appropriate function name\n",
        "\n",
        "sns._______(x='Glucose',y='Insulin',data=___)\n",
        "plt.show("
      ]
    },
    {
      "cell_type": "markdown",
      "metadata": {
        "id": "ii5wRoE1Oetv"
      },
      "source": [
        "#### Write your Answer here: \n"
      ]
    },
    {
      "cell_type": "raw",
      "metadata": {
        "id": "WWcfG7mOOetv"
      },
      "source": [
        "Ans 15:"
      ]
    },
    {
      "cell_type": "markdown",
      "metadata": {
        "id": "pGNhVTI-Oetv"
      },
      "source": [
        "### Q16. Plot the boxplot for the 'Age' variable. Are there outliers? (1 Mark)"
      ]
    },
    {
      "cell_type": "code",
      "execution_count": null,
      "metadata": {
        "id": "mm2n0jZjOetv"
      },
      "outputs": [],
      "source": [
        "#remove _____ & write the appropriate function and column name \n",
        "\n",
        "plt.______(pima['____'])\n",
        "\n",
        "plt.title('Boxplot of Age')\n",
        "plt.ylabel('Age')\n",
        "plt.show()"
      ]
    },
    {
      "cell_type": "markdown",
      "metadata": {
        "id": "sazNDU2qOetv"
      },
      "source": [
        "#### Write your Answer here: \n"
      ]
    },
    {
      "cell_type": "raw",
      "metadata": {
        "id": "poRTh1G0Oetv"
      },
      "source": [
        "Ans 16:"
      ]
    },
    {
      "cell_type": "markdown",
      "metadata": {
        "id": "fGrMLHIdOetv"
      },
      "source": [
        "### Q17. Find and visualize the the correlation matrix. Write your observations from the plot. (1 Mark)"
      ]
    },
    {
      "cell_type": "code",
      "execution_count": null,
      "metadata": {
        "id": "s6suvuOKOetw"
      },
      "outputs": [],
      "source": [
        "#remove _____ & write the appropriate function name and run the code\n",
        "\n",
        "corr_matrix = pima.iloc[:,0:8].______\n",
        "\n",
        "corr_matrix"
      ]
    },
    {
      "cell_type": "code",
      "execution_count": null,
      "metadata": {
        "id": "TdW7O04FOetw"
      },
      "outputs": [],
      "source": [
        "#remove _____ & write the appropriate function name\n",
        "\n",
        "plt.figure(figsize=(8,8))\n",
        "sns._______(corr_matrix, annot = True)\n",
        "\n",
        "# display the plot\n",
        "plt.show()"
      ]
    },
    {
      "cell_type": "markdown",
      "metadata": {
        "id": "r9jmJ1peOetw"
      },
      "source": [
        "#### Write your Answer here: \n"
      ]
    },
    {
      "cell_type": "raw",
      "metadata": {
        "id": "FLEb8o06Oetw"
      },
      "source": [
        "Ans 17:"
      ]
    },
    {
      "cell_type": "markdown",
      "metadata": {
        "id": "Shg-1_IWOetw"
      },
      "source": [
        "    "
      ]
    },
    {
      "cell_type": "markdown",
      "metadata": {
        "id": "5c94vJqtOetw"
      },
      "source": [
        "## Model Training"
      ]
    },
    {
      "cell_type": "markdown",
      "metadata": {
        "id": "xX6jeMsGOetx"
      },
      "source": [
        "### Q18. Split and scale the data (2 Mark)"
      ]
    },
    {
      "cell_type": "code",
      "execution_count": null,
      "metadata": {
        "id": "NmdgHeQ2Oetx"
      },
      "outputs": [],
      "source": [
        "# Split the data into dependent and independent variables\n",
        "# remove _____ & write the appropriate function variable name\n",
        "y = pima._____\n",
        "x = pima.drop('____', axis = 1)"
      ]
    },
    {
      "cell_type": "code",
      "execution_count": null,
      "metadata": {
        "id": "ndHh1DWLOetx"
      },
      "outputs": [],
      "source": [
        "# Using StandarScaler scale the data\n",
        "# remove _____ & write the appropriate function function name\n",
        "\n",
        "from sklearn.preprocessing import _______\n",
        "scaler = _______()\n",
        "X = scaler.fit_transform(x)"
      ]
    },
    {
      "cell_type": "code",
      "execution_count": null,
      "metadata": {
        "id": "du8HgqI_Oetx"
      },
      "outputs": [],
      "source": [
        "# Splitting the data into train and test. Use test size as 15%\n",
        "# remove _____ & complete the code\n",
        "\n",
        "from sklearn.model_selection import ______\n",
        "x_train, x_test, y_train, y_test = train_test_split(__, __, test_size = ____, stratify=y,  random_state = 45)"
      ]
    },
    {
      "cell_type": "markdown",
      "metadata": {
        "id": "ScB-DsGbOetx"
      },
      "source": [
        "### Q19. Train a Logistic Regression Model. What is the Accuracy and how many True Positives and True Negatives did you get? (3 Marks)"
      ]
    },
    {
      "cell_type": "code",
      "execution_count": null,
      "metadata": {
        "id": "tFRwCwVaOety"
      },
      "outputs": [],
      "source": [
        "# remove _____ & complete the code\n",
        "\n",
        "# import the model\n",
        "from sklearn.linear_model import LogisticRegression\n",
        "\n",
        "# Instantiate the model\n",
        "lr = LogisticRegression()\n",
        "\n",
        "# fit the model on the train set\n",
        "m = lr.___(x_train, ____)\n",
        "\n",
        "# Predict on x_test\n",
        "y_pred = m.predict(____)\n",
        "\n",
        "# Evaluate the model\n",
        "print('Accuracy of Logistic Regression model on the train set: {:.2f}'.format(m.score(x_train, y_train)))\n",
        "print('Accuracy of the Logictic Regression model on the test set: {:.2f}'.format(m.score(x_test, y_test)))\n",
        "\n",
        "from sklearn.metrics import confusion_matrix\n",
        "confusion_matrix(y_test, y_pred)"
      ]
    },
    {
      "cell_type": "markdown",
      "metadata": {
        "id": "60o4M-KlOetz"
      },
      "source": [
        "#### Write your Answer here: \n"
      ]
    },
    {
      "cell_type": "markdown",
      "metadata": {
        "id": "GNsKN-K7Oet0"
      },
      "source": [
        "Ans 19:"
      ]
    },
    {
      "cell_type": "markdown",
      "metadata": {
        "id": "J7rGyEYzOet0"
      },
      "source": [
        "### Q20. Train a Random Forest Model. What is the Accuracy and how many True Positives and True Negatives did you get? (3 Marks)"
      ]
    },
    {
      "cell_type": "code",
      "execution_count": null,
      "metadata": {
        "id": "mCX9x76ROet0"
      },
      "outputs": [],
      "source": [
        "#remove _____ & complete the code\n",
        "\n",
        "# Import the Model\n",
        "from sklearn.ensemble import RandomForestClassifier\n",
        "\n",
        "# Instantiate the model. \n",
        "rf = RandomForestClassifier(n_estimators=301, max_depth=3)\n",
        "\n",
        "# fit the model on the train set\n",
        "m2 = rf.___(x_train, y_train)\n",
        "\n",
        "# Predict on x_test\n",
        "y_pred2 = m2._____(x_test)\n",
        "\n",
        "# Evaluate the Model\n",
        "print('Accuracy of Random Forest model on the train set: {:.2f}'.format(m2.score(x_train, y_train)))\n",
        "print('Accuracy of Random Forest model on the test set: {:.2f}'.format(m2.score(x_test, y_test)))\n",
        "confusion_matrix(y_test, y_pred2)"
      ]
    },
    {
      "cell_type": "markdown",
      "metadata": {
        "id": "rkh0fn4nOet0"
      },
      "source": [
        "#### Write your Answer here: "
      ]
    },
    {
      "cell_type": "markdown",
      "metadata": {
        "id": "-a3d09VROet1"
      },
      "source": [
        "Ans 20:"
      ]
    },
    {
      "cell_type": "markdown",
      "metadata": {
        "id": "rjU9ZQ0kOet1"
      },
      "source": [
        "    "
      ]
    },
    {
      "cell_type": "markdown",
      "metadata": {
        "id": "HMsZMbCdOet1"
      },
      "source": [
        "### Q21. Which model performed better? (1 Mark)"
      ]
    },
    {
      "cell_type": "markdown",
      "metadata": {
        "id": "tSEUFFw1Oet1"
      },
      "source": [
        "#### Write your Answer here: "
      ]
    },
    {
      "cell_type": "markdown",
      "metadata": {
        "id": "EzPZqmPSOet1"
      },
      "source": [
        "Ans 21:"
      ]
    },
    {
      "cell_type": "code",
      "execution_count": null,
      "metadata": {
        "id": "EmDq97TrOet1"
      },
      "outputs": [],
      "source": []
    }
  ],
  "metadata": {
    "kernelspec": {
      "display_name": "Python 3",
      "language": "python",
      "name": "python3"
    },
    "language_info": {
      "codemirror_mode": {
        "name": "ipython",
        "version": 3
      },
      "file_extension": ".py",
      "mimetype": "text/x-python",
      "name": "python",
      "nbconvert_exporter": "python",
      "pygments_lexer": "ipython3",
      "version": "3.7.6"
    },
    "toc": {
      "base_numbering": 1,
      "nav_menu": {},
      "number_sections": true,
      "sideBar": true,
      "skip_h1_title": false,
      "title_cell": "Table of Contents",
      "title_sidebar": "Contents",
      "toc_cell": false,
      "toc_position": {},
      "toc_section_display": true,
      "toc_window_display": false
    },
    "varInspector": {
      "cols": {
        "lenName": 16,
        "lenType": 16,
        "lenVar": 40
      },
      "kernels_config": {
        "python": {
          "delete_cmd_postfix": "",
          "delete_cmd_prefix": "del ",
          "library": "var_list.py",
          "varRefreshCmd": "print(var_dic_list())"
        },
        "r": {
          "delete_cmd_postfix": ") ",
          "delete_cmd_prefix": "rm(",
          "library": "var_list.r",
          "varRefreshCmd": "cat(var_dic_list()) "
        }
      },
      "types_to_exclude": [
        "module",
        "function",
        "builtin_function_or_method",
        "instance",
        "_Feature"
      ],
      "window_display": false
    },
    "colab": {
      "provenance": [],
      "include_colab_link": true
    }
  },
  "nbformat": 4,
  "nbformat_minor": 0
}